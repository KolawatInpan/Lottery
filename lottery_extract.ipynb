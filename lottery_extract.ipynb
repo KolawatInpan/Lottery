{
 "cells": [
  {
   "cell_type": "code",
   "execution_count": 49,
   "metadata": {},
   "outputs": [],
   "source": [
    "import re\n",
    "import pandas as pd\n",
    "\n",
    "# The content of the cell as a string\n",
    "cell_content = \"\"\"\n",
    "002987066303129847216238365009\n",
    "454976548605680872857282939294\n",
    "006418068280150028217586371548\n",
    "455558552463694526887270940187\n",
    "010160085953151247227367375285\n",
    "463329570402718011900077943945\n",
    "012060086608178923248471381221\n",
    "470513572947766184910138946096\n",
    "020270090084182147270595381644\n",
    "478440587456768814910562949493\n",
    "023257101839201844315908388050\n",
    "481143587873793216916807963586\n",
    "030189109018206981321021391331\n",
    "508235604020815537922937977007\n",
    "037190114828207878323109422045\n",
    "527162622745817142927622978679\n",
    "048395121142208776324430428073\n",
    "539471647640818211930152980376\n",
    "051040126498210659341258454119\n",
    "547674665273856211938439986235\n",
    "\"\"\""
   ]
  },
  {
   "cell_type": "code",
   "execution_count": 50,
   "metadata": {},
   "outputs": [],
   "source": [
    "def extract_lottery_numbers(cell_content):\n",
    "    # Extract every 6-digit number from each row\n",
    "    lottery_numbers = []\n",
    "    for line in cell_content.strip().split('\\n'):\n",
    "        lottery_numbers.extend(re.findall(r'\\d{6}', line))\n",
    "\n",
    "    # Reshape the list into a DataFrame with 5 columns\n",
    "    df = pd.DataFrame([lottery_numbers[i:i+5] for i in range(0, len(lottery_numbers), 5)],\n",
    "                    columns=[\"Number 1\", \"Number 2\", \"Number 3\", \"Number 4\", \"Number 5\"])\n",
    "\n",
    "    # Display the DataFrame\n",
    "    print(df)\n",
    "\n",
    "    # Write the DataFrame to an Excel file\n",
    "    df.to_excel(\"lottery_numbers_temp.xlsx\", index=False)\n",
    "\n",
    "    print(\"Lottery numbers have been written to lottery_numbers_temp.xlsx\")"
   ]
  },
  {
   "cell_type": "code",
   "execution_count": 51,
   "metadata": {},
   "outputs": [
    {
     "name": "stdout",
     "output_type": "stream",
     "text": [
      "   Number 1 Number 2 Number 3 Number 4 Number 5\n",
      "0    002987   066303   129847   216238   365009\n",
      "1    454976   548605   680872   857282   939294\n",
      "2    006418   068280   150028   217586   371548\n",
      "3    455558   552463   694526   887270   940187\n",
      "4    010160   085953   151247   227367   375285\n",
      "5    463329   570402   718011   900077   943945\n",
      "6    012060   086608   178923   248471   381221\n",
      "7    470513   572947   766184   910138   946096\n",
      "8    020270   090084   182147   270595   381644\n",
      "9    478440   587456   768814   910562   949493\n",
      "10   023257   101839   201844   315908   388050\n",
      "11   481143   587873   793216   916807   963586\n",
      "12   030189   109018   206981   321021   391331\n",
      "13   508235   604020   815537   922937   977007\n",
      "14   037190   114828   207878   323109   422045\n",
      "15   527162   622745   817142   927622   978679\n",
      "16   048395   121142   208776   324430   428073\n",
      "17   539471   647640   818211   930152   980376\n",
      "18   051040   126498   210659   341258   454119\n",
      "19   547674   665273   856211   938439   986235\n",
      "Lottery numbers have been written to lottery_numbers_temp.xlsx\n"
     ]
    }
   ],
   "source": [
    "extract_lottery_numbers(cell_content)"
   ]
  }
 ],
 "metadata": {
  "kernelspec": {
   "display_name": "Python 3",
   "language": "python",
   "name": "python3"
  },
  "language_info": {
   "codemirror_mode": {
    "name": "ipython",
    "version": 3
   },
   "file_extension": ".py",
   "mimetype": "text/x-python",
   "name": "python",
   "nbconvert_exporter": "python",
   "pygments_lexer": "ipython3",
   "version": "3.12.4"
  }
 },
 "nbformat": 4,
 "nbformat_minor": 2
}
