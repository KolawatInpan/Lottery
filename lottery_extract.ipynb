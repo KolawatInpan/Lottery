{
 "cells": [
  {
   "cell_type": "code",
   "execution_count": null,
   "metadata": {
    "vscode": {
     "languageId": "plaintext"
    }
   },
   "outputs": [],
   "source": [
    "import re\n",
    "import pandas as pd\n",
    "\n",
    "# The content of the cell as a string\n",
    "cell_content = \"\"\"\n",
    "002795115861192800324037420684\n",
    "474794550754652086763222858314\n",
    "003432129375220421363503422419\n",
    "485673560688655309764120862786\n",
    "006659129655227344364392423982\n",
    "495195576125693983765466869761\n",
    "040499138968250011383004424316\n",
    "505561576498702536771325894902\n",
    "073908143744260608384313430621\n",
    "505983579346704917782158899355\n",
    "085935143999272603391308433998\n",
    "506299579622714066797602929798\n",
    "090261148657273118402386441314\n",
    "509512595563716670801730932253\n",
    "096708177889286079411886442947\n",
    "535118601570734542815447978436\n",
    "103768178309293479412516454902\n",
    "537178618923750476819244979012\n",
    "113168183513322329413630472240\n",
    "538706621644762033848018994883\n",
    "\"\"\"\n",
    "\n",
    "# Extract every 6-digit number from each row\n",
    "lottery_numbers = []\n",
    "for line in cell_content.strip().split('\\n'):\n",
    "    lottery_numbers.extend(re.findall(r'\\d{6}', line))\n",
    "\n",
    "# Reshape the list into a DataFrame with 5 columns\n",
    "df = pd.DataFrame([lottery_numbers[i:i+5] for i in range(0, len(lottery_numbers), 5)],\n",
    "                  columns=[\"Number 1\", \"Number 2\", \"Number 3\", \"Number 4\", \"Number 5\"])\n",
    "\n",
    "# Display the DataFrame\n",
    "print(df)\n",
    "\n",
    "# Write the DataFrame to an Excel file\n",
    "df.to_excel(\"lottery_numbers.xlsx\", index=False)\n",
    "\n",
    "print(\"Lottery numbers have been written to lottery_numbers.xlsx\")"
   ]
  }
 ],
 "metadata": {
  "language_info": {
   "name": "python"
  }
 },
 "nbformat": 4,
 "nbformat_minor": 2
}
